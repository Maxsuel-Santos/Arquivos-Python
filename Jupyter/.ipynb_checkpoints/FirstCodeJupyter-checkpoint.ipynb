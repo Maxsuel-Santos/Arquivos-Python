{
 "cells": [
  {
   "cell_type": "markdown",
   "id": "b2989598",
   "metadata": {},
   "source": [
    "**Texto sobre o que se trata o código abaixo:**"
   ]
  },
  {
   "cell_type": "code",
   "execution_count": 2,
   "id": "0ed6a17f",
   "metadata": {},
   "outputs": [
    {
     "name": "stdout",
     "output_type": "stream",
     "text": [
      "Hello, world!\n"
     ]
    }
   ],
   "source": [
    "print(\"Hello, world!\")"
   ]
  },
  {
   "cell_type": "code",
   "execution_count": 3,
   "id": "e26999b2",
   "metadata": {},
   "outputs": [
    {
     "name": "stdout",
     "output_type": "stream",
     "text": [
      "Hello, world!\n",
      "Hello, world!\n",
      "Hello, world!\n",
      "Hello, world!\n",
      "Hello, world!\n",
      "Hello, world!\n",
      "Hello, world!\n",
      "Hello, world!\n",
      "Hello, world!\n",
      "Hello, world!\n"
     ]
    }
   ],
   "source": [
    "for cont in range(0,10):\n",
    "    print(\"Hello, world!\")"
   ]
  },
  {
   "cell_type": "code",
   "execution_count": 5,
   "id": "203fb4ca",
   "metadata": {},
   "outputs": [
    {
     "name": "stdout",
     "output_type": "stream",
     "text": [
      "\u001b[1;31;43mHello, world!\u001b[m\n",
      "\u001b[1;31;43mHello, world!\u001b[m\n",
      "\u001b[1;31;43mHello, world!\u001b[m\n",
      "\u001b[1;31;43mHello, world!\u001b[m\n",
      "\u001b[1;31;43mHello, world!\u001b[m\n",
      "\u001b[1;31;43mHello, world!\u001b[m\n",
      "\u001b[1;31;43mHello, world!\u001b[m\n",
      "\u001b[1;31;43mHello, world!\u001b[m\n",
      "\u001b[1;31;43mHello, world!\u001b[m\n",
      "\u001b[1;31;43mHello, world!\u001b[m\n"
     ]
    }
   ],
   "source": [
    "for cont in range(0,10):\n",
    "    print(\"\\033[1;31;43mHello, world!\\033[m\")"
   ]
  },
  {
   "cell_type": "code",
   "execution_count": null,
   "id": "f8aff695",
   "metadata": {},
   "outputs": [],
   "source": []
  }
 ],
 "metadata": {
  "kernelspec": {
   "display_name": "Python 3 (ipykernel)",
   "language": "python",
   "name": "python3"
  },
  "language_info": {
   "codemirror_mode": {
    "name": "ipython",
    "version": 3
   },
   "file_extension": ".py",
   "mimetype": "text/x-python",
   "name": "python",
   "nbconvert_exporter": "python",
   "pygments_lexer": "ipython3",
   "version": "3.9.13"
  }
 },
 "nbformat": 4,
 "nbformat_minor": 5
}
