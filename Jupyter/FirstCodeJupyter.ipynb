{
 "cells": [
  {
   "cell_type": "markdown",
   "id": "71a4f8b3",
   "metadata": {},
   "source": [
    "**Texto sobre o que se trata o código abaixo:**"
   ]
  },
  {
   "cell_type": "code",
   "execution_count": 2,
   "id": "1a0add53",
   "metadata": {},
   "outputs": [
    {
     "name": "stdout",
     "output_type": "stream",
     "text": [
      "Hello, world!\n"
     ]
    }
   ],
   "source": [
    "print(\"Hello, world!\")"
   ]
  },
  {
   "cell_type": "code",
   "execution_count": 3,
   "id": "4fd12028",
   "metadata": {},
   "outputs": [
    {
     "name": "stdout",
     "output_type": "stream",
     "text": [
      "Hello, world!\n",
      "Hello, world!\n",
      "Hello, world!\n",
      "Hello, world!\n",
      "Hello, world!\n",
      "Hello, world!\n",
      "Hello, world!\n",
      "Hello, world!\n",
      "Hello, world!\n",
      "Hello, world!\n"
     ]
    }
   ],
   "source": [
    "for cont in range(0,10):\n",
    "    print(\"Hello, world!\")"
   ]
  },
  {
   "cell_type": "code",
   "execution_count": 5,
   "id": "8f7dc6f5",
   "metadata": {},
   "outputs": [
    {
     "name": "stdout",
     "output_type": "stream",
     "text": [
      "\u001b[1;31;43mHello, world!\u001b[m\n",
      "\u001b[1;31;43mHello, world!\u001b[m\n",
      "\u001b[1;31;43mHello, world!\u001b[m\n",
      "\u001b[1;31;43mHello, world!\u001b[m\n",
      "\u001b[1;31;43mHello, world!\u001b[m\n",
      "\u001b[1;31;43mHello, world!\u001b[m\n",
      "\u001b[1;31;43mHello, world!\u001b[m\n",
      "\u001b[1;31;43mHello, world!\u001b[m\n",
      "\u001b[1;31;43mHello, world!\u001b[m\n",
      "\u001b[1;31;43mHello, world!\u001b[m\n"
     ]
    }
   ],
   "source": [
    "for cont in range(0,10):\n",
    "    print(\"\\033[1;31;43mHello, world!\\033[m\")"
   ]
  },
  {
   "cell_type": "code",
   "execution_count": null,
   "id": "77767795",
   "metadata": {},
   "outputs": [],
   "source": []
  }
 ],
 "metadata": {
  "kernelspec": {
   "display_name": "Python 3 (ipykernel)",
   "language": "python",
   "name": "python3"
  },
  "language_info": {
   "codemirror_mode": {
    "name": "ipython",
    "version": 3
   },
   "file_extension": ".py",
   "mimetype": "text/x-python",
   "name": "python",
   "nbconvert_exporter": "python",
   "pygments_lexer": "ipython3",
   "version": "3.9.13"
  }
 },
 "nbformat": 4,
 "nbformat_minor": 5
}
