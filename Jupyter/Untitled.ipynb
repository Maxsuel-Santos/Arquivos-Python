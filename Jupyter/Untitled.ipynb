{
 "cells": [
  {
   "cell_type": "code",
   "execution_count": 2,
   "id": "e3db9387",
   "metadata": {},
   "outputs": [
    {
     "name": "stdout",
     "output_type": "stream",
     "text": [
      "Hello, world!\n"
     ]
    }
   ],
   "source": [
    "print(\"Hello, world!\")"
   ]
  },
  {
   "cell_type": "code",
   "execution_count": 3,
   "id": "80c63da1",
   "metadata": {},
   "outputs": [
    {
     "name": "stdout",
     "output_type": "stream",
     "text": [
      "Hello, world!\n",
      "Hello, world!\n",
      "Hello, world!\n",
      "Hello, world!\n",
      "Hello, world!\n",
      "Hello, world!\n",
      "Hello, world!\n",
      "Hello, world!\n",
      "Hello, world!\n",
      "Hello, world!\n"
     ]
    }
   ],
   "source": [
    "for cont in range(0,10):\n",
    "    print(\"Hello, world!\")"
   ]
  },
  {
   "cell_type": "code",
   "execution_count": 4,
   "id": "bb7073d1",
   "metadata": {},
   "outputs": [
    {
     "name": "stdout",
     "output_type": "stream",
     "text": [
      "\u001b[1;31;43Hello, world!\u001b[m]\n",
      "\u001b[1;31;43Hello, world!\u001b[m]\n",
      "\u001b[1;31;43Hello, world!\u001b[m]\n",
      "\u001b[1;31;43Hello, world!\u001b[m]\n",
      "\u001b[1;31;43Hello, world!\u001b[m]\n",
      "\u001b[1;31;43Hello, world!\u001b[m]\n",
      "\u001b[1;31;43Hello, world!\u001b[m]\n",
      "\u001b[1;31;43Hello, world!\u001b[m]\n",
      "\u001b[1;31;43Hello, world!\u001b[m]\n",
      "\u001b[1;31;43Hello, world!\u001b[m]\n"
     ]
    }
   ],
   "source": [
    "for cont in range(0,10):\n",
    "    print(\"\\033[1;31;43Hello, world!\\033[m]\")"
   ]
  },
  {
   "cell_type": "code",
   "execution_count": null,
   "id": "c6e2f1db",
   "metadata": {},
   "outputs": [],
   "source": [
    "for cont in range(0,10):\n",
    "    print(\"\\033[1;31;43mHello, world!\\033[m\")"
   ]
  }
 ],
 "metadata": {
  "kernelspec": {
   "display_name": "Python 3 (ipykernel)",
   "language": "python",
   "name": "python3"
  },
  "language_info": {
   "codemirror_mode": {
    "name": "ipython",
    "version": 3
   },
   "file_extension": ".py",
   "mimetype": "text/x-python",
   "name": "python",
   "nbconvert_exporter": "python",
   "pygments_lexer": "ipython3",
   "version": "3.9.13"
  }
 },
 "nbformat": 4,
 "nbformat_minor": 5
}
