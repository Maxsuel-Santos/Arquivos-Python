{
 "cells": [
  {
   "cell_type": "code",
   "execution_count": 2,
   "metadata": {},
   "outputs": [
    {
     "ename": "ModuleNotFoundError",
     "evalue": "No module named 'webdriver_manager'",
     "output_type": "error",
     "traceback": [
      "\u001b[1;31m---------------------------------------------------------------------------\u001b[0m",
      "\u001b[1;31mModuleNotFoundError\u001b[0m                       Traceback (most recent call last)",
      "Cell \u001b[1;32mIn[2], line 2\u001b[0m\n\u001b[0;32m      1\u001b[0m \u001b[39mfrom\u001b[39;00m \u001b[39mselenium\u001b[39;00m \u001b[39mimport\u001b[39;00m webdriver\n\u001b[1;32m----> 2\u001b[0m \u001b[39mfrom\u001b[39;00m \u001b[39mwebdriver_manager\u001b[39;00m\u001b[39m.\u001b[39;00m\u001b[39mchrome\u001b[39;00m \u001b[39mimport\u001b[39;00m ChromeDriverManager\n\u001b[0;32m      3\u001b[0m \u001b[39mfrom\u001b[39;00m \u001b[39mselenium\u001b[39;00m\u001b[39m.\u001b[39;00m\u001b[39mwebdriver\u001b[39;00m\u001b[39m.\u001b[39;00m\u001b[39mchrome\u001b[39;00m\u001b[39m.\u001b[39;00m\u001b[39mservice\u001b[39;00m \u001b[39mimport\u001b[39;00m Service\n\u001b[0;32m      4\u001b[0m \u001b[39mfrom\u001b[39;00m \u001b[39mselenium\u001b[39;00m\u001b[39m.\u001b[39;00m\u001b[39mwebdriver\u001b[39;00m\u001b[39m.\u001b[39;00m\u001b[39mcommon\u001b[39;00m\u001b[39m.\u001b[39;00m\u001b[39mby\u001b[39;00m \u001b[39mimport\u001b[39;00m By\n",
      "\u001b[1;31mModuleNotFoundError\u001b[0m: No module named 'webdriver_manager'"
     ]
    }
   ],
   "source": [
    "from selenium import webdriver\n",
    "from webdriver_manager.chrome import ChromeDriverManager\n",
    "from selenium.webdriver.chrome.service import Service\n",
    "from selenium.webdriver.common.by import By\n",
    "import pandas as pd\n",
    "\n",
    "# Cria instância do navegador e abre a página desejada\n",
    "servico = Service(ChromeDriverManager().install())\n",
    "driver = webdriver.Chrome(service=servico)\n",
    "\n",
    "driver.get('https://telefonesimportados.netlify.app/')\n",
    "\n",
    "# Identifica os elementos que deseja extrair\n",
    "nomeProdutos = driver.find_elements(by=By.CSS_SELECTOR, value='h2 > a')\n",
    "precoProdutos = driver.find_elements(by=By.CSS_SELECTOR, value='div.product-carousel-price > ins')\n",
    "nome = []\n",
    "preco = []\n",
    "\n",
    "for i in range(len(nomeProdutos)):\n",
    "    nome.append(nomeProdutos[i].text)\n",
    "    preco.append(precoProdutos[i].text)\n",
    "    \n",
    "\n",
    "produto = {\n",
    "    'Nome': nome,\n",
    "    'Preço': preco\n",
    "}\n",
    "\n",
    "df = pd.DataFrame(produto)\n",
    "print(df)\n",
    "\n",
    "\n",
    "# Fecha o navegador\n",
    "driver.quit()"
   ]
  }
 ],
 "metadata": {
  "kernelspec": {
   "display_name": "Python 3",
   "language": "python",
   "name": "python3"
  },
  "language_info": {
   "codemirror_mode": {
    "name": "ipython",
    "version": 3
   },
   "file_extension": ".py",
   "mimetype": "text/x-python",
   "name": "python",
   "nbconvert_exporter": "python",
   "pygments_lexer": "ipython3",
   "version": "3.9.13"
  },
  "orig_nbformat": 4
 },
 "nbformat": 4,
 "nbformat_minor": 2
}
